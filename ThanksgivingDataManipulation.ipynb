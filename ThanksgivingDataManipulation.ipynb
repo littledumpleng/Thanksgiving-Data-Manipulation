{
 "cells": [
  {
   "cell_type": "markdown",
   "id": "45f93c1c",
   "metadata": {},
   "source": [
    "# Thanksgiving Data Manipulation"
   ]
  },
  {
   "cell_type": "code",
   "execution_count": 102,
   "id": "af4919ef",
   "metadata": {},
   "outputs": [],
   "source": [
    "# import packages\n",
    "import pandas as pd # working with df\n",
    "import numpy as np \n",
    "import requests # sending an api request using requests module\n",
    "from pandas.io.json import json_normalize # pandas package to flatten json files and convert to df \n",
    "import json # api data is in json format\n",
    "import matplotlib.pyplot as plt # visualize data\n",
    "%matplotlib inline"
   ]
  },
  {
   "cell_type": "code",
   "execution_count": 103,
   "id": "0615acdb",
   "metadata": {},
   "outputs": [],
   "source": [
    "# set API key\n",
    "apiKey = \"lorem ipsum\"\n",
    "\n",
    "# set  parameter\n",
    "params = {'api_key' : apiKey}"
   ]
  },
  {
   "cell_type": "code",
   "execution_count": 104,
   "id": "bb9adf35",
   "metadata": {},
   "outputs": [],
   "source": [
    "# create a food list\n",
    "food_list = [\"turkey\", \"macaroni and cheese\", \"mashed potatoes\", \"bread stuffing\", \n",
    "             \"ham\", \"sweet potato souffle\", \"cranberry sauce\", \"mixed vegetables\", \n",
    "             \"apple pie\", \"pecan pie\"]\n"
   ]
  },
  {
   "cell_type": "code",
   "execution_count": 105,
   "id": "6d8a08e7",
   "metadata": {},
   "outputs": [
    {
     "name": "stdout",
     "output_type": "stream",
     "text": [
      "nutrientName                  Food      Carbs      Energy        Fat  \\\n",
      "0                           turkey   6.722600  431.455882  12.502400   \n",
      "0              macaroni and cheese  20.468400  329.632353   6.891600   \n",
      "0                  mashed potatoes  39.967400  228.296296   4.126800   \n",
      "0                   bread stuffing  27.500600  361.431034  10.006200   \n",
      "0                              ham   8.734600  292.492063   8.775800   \n",
      "0             sweet potato souffle  25.800000  232.466667   7.047800   \n",
      "0                  cranberry sauce  27.093469  217.928571   0.620000   \n",
      "0                 mixed vegetables   9.695800   49.632653   0.022653   \n",
      "0                        apple pie  37.518000  321.240741  12.848200   \n",
      "0                        pecan pie  43.640000  502.185185  23.939200   \n",
      "\n",
      "nutrientName     Fiber  Protein  \n",
      "0             0.329787  16.2948  \n",
      "0             0.946000   6.6384  \n",
      "0             3.092000   4.5120  \n",
      "0             2.278000   8.2718  \n",
      "0             0.492683  13.6342  \n",
      "0             2.688000   2.9092  \n",
      "0             1.885417   1.8286  \n",
      "0             2.146000   1.7340  \n",
      "0             2.202041   2.8270  \n",
      "0             2.665306   4.5754  \n"
     ]
    }
   ],
   "source": [
    "# create a counter\n",
    "counter = 0\n",
    "\n",
    "# execute api call for each food, tracking with counter\n",
    "for food in food_list:\n",
    "\n",
    "    # increment counter for sequence of foods\n",
    "    counter=counter+1\n",
    "    \n",
    "    # send api request\n",
    "    response = requests.post(\n",
    "        r'https://api.nal.usda.gov/fdc/v1/search', # endpoint\n",
    "        params=params, # api key\n",
    "        json={'generalSearchInput': food} # pass food string to api call to search for a food in food_list\n",
    "    )\n",
    "    \n",
    "    # save response to json\n",
    "    item = response.json()\n",
    "    \n",
    "    # find length of each item list to see how many matches there are. there can be multiple per keyword\n",
    "    length = [i for i in range(len(item['foods']))] \n",
    "    \n",
    "    # create df for all matches of a food word\n",
    "    for i in length:\n",
    "        # initialize df with first food\n",
    "        if i == 0: \n",
    "            rdf = pd.json_normalize(item['foods'][i]['foodNutrients']) # get foodNutrients of food at position i\n",
    "        # create new df for subsequent foods and concatenate\n",
    "        else: \n",
    "            df = pd.json_normalize(item['foods'][i]['foodNutrients'])\n",
    "            rdf = pd.concat([rdf,df])\n",
    "    \n",
    "    # recode variables to simplify names\n",
    "    rdf['nutrientName'].replace('Energy','Energy',inplace=True)\n",
    "    rdf['nutrientName'].replace('Carbohydrate, by difference','Carbs',inplace=True)\n",
    "    rdf['nutrientName'].replace('Protein','Protein',inplace=True)\n",
    "    rdf['nutrientName'].replace('Fiber, total dietary','Fiber',inplace=True)\n",
    "    rdf['nutrientName'].replace('Total lipid (fat)','Fat',inplace=True)\n",
    "    rdf['nutrientName'].replace('Sodium, Na','Sodium',inplace=True)\n",
    "    rdf['nutrientName'].replace('Fatty acids, total saturated','Sat_Fatty_Acids',inplace=True)\n",
    "    rdf['nutrientName'].replace('Calcium, Ca','Calcium',inplace=True)\n",
    "    rdf['nutrientName'].replace('Iron, Fe','Iron',inplace=True)\n",
    "    rdf['nutrientName'].replace('Sugars, total including NLEA','Sugar',inplace=True)\n",
    "    rdf['nutrientName'].replace('Cholesterol','Chol',inplace=True)\n",
    "    rdf['nutrientName'].replace('Fatty acids, total trans','Trans_Fatty_Acids',inplace=True)\n",
    "    rdf['nutrientName'].replace('Vitamin C, total ascorbic acid','VitaminC',inplace=True)\n",
    "    rdf['nutrientName'].replace('Vitamin A, IU','VitaminA',inplace=True)\n",
    "    rdf['nutrientName'].replace('Potassium, K','Potassium',inplace=True)\n",
    "    rdf['nutrientName'].replace('Fatty acids, total polyunsaturated','Unsat_Fatty_Acids',inplace=True)   \n",
    "  \n",
    "    # aggregate to one row per nutrient/food match and find average\n",
    "    agg_food = rdf[['nutrientName','value']].groupby(['nutrientName']).agg('mean')\n",
    "    \n",
    "    # reset index\n",
    "    agg_food = agg_food.reset_index()\n",
    "    \n",
    "    # rename columns\n",
    "    agg_food.columns = [\"nutrientName\",\"Value\"]    \n",
    "    \n",
    "    # subset data to only include needed nutrients\n",
    "    agg_food = agg_food[agg_food[\"nutrientName\"].isin(['Energy','Carbs','Protein','Fiber','Fat'])] # if nutrientName is any one of these values, we will keep it in the df\n",
    "     \n",
    "    # set food name into a variable - different per iteration\n",
    "    agg_food[\"Food\"] = food \n",
    "        \n",
    "    # transpose data so nutrient values are their own columns\n",
    "    new = agg_food.pivot_table(index = [\"Food\"], columns = ['nutrientName'], values = 'Value')\n",
    "    \n",
    "    # reset index\n",
    "    new.reset_index(inplace = True)\n",
    "    \n",
    "    # append food match to a dataframe with all foods\n",
    "    if counter == 1: # initialize df if it's the first food in the list\n",
    "        all_foods = new\n",
    "    else: # combine records onto existing df for other foods\n",
    "        all_foods = pd.concat([all_foods,new]) \n",
    "        \n",
    "print(all_foods)\n",
    "        \n",
    "        "
   ]
  },
  {
   "cell_type": "code",
   "execution_count": 106,
   "id": "56a06a31",
   "metadata": {},
   "outputs": [
    {
     "name": "stdout",
     "output_type": "stream",
     "text": [
      "Nutrient Name    Food   Carbs      Energy      Fat     Fiber  Protein\n",
      "0              turkey  6.7226  431.455882  12.5024  0.329787  16.2948\n",
      "Nutrient Name                 Food    Carbs      Energy     Fat  Fiber  \\\n",
      "0              macaroni and cheese  20.4684  329.632353  6.8916  0.946   \n",
      "\n",
      "Nutrient Name  Protein  \n",
      "0               6.6384  \n",
      "Nutrient Name             Food    Carbs      Energy     Fat  Fiber  Protein\n",
      "0              mashed potatoes  39.9674  228.296296  4.1268  3.092    4.512\n",
      "Nutrient Name            Food    Carbs      Energy      Fat  Fiber  Protein\n",
      "0              bread stuffing  27.5006  361.431034  10.0062  2.278   8.2718\n",
      "Nutrient Name Food   Carbs      Energy     Fat     Fiber  Protein\n",
      "0              ham  8.7346  292.492063  8.7758  0.492683  13.6342\n",
      "Nutrient Name                  Food  Carbs      Energy     Fat  Fiber  Protein\n",
      "0              sweet potato souffle   25.8  232.466667  7.0478  2.688   2.9092\n",
      "Nutrient Name             Food      Carbs      Energy   Fat     Fiber  Protein\n",
      "0              cranberry sauce  27.093469  217.928571  0.62  1.885417   1.8286\n",
      "Nutrient Name              Food   Carbs     Energy       Fat  Fiber  Protein\n",
      "0              mixed vegetables  9.6958  49.632653  0.022653  2.146    1.734\n",
      "Nutrient Name       Food   Carbs      Energy      Fat     Fiber  Protein\n",
      "0              apple pie  37.518  321.240741  12.8482  2.202041    2.827\n",
      "Nutrient Name       Food  Carbs      Energy      Fat     Fiber  Protein\n",
      "0              pecan pie  43.64  502.185185  23.9392  2.665306   4.5754\n"
     ]
    }
   ],
   "source": [
    "counter = 0\n",
    "\n",
    "# execute api call for each food, tracking with counter\n",
    "for food in food_list: \n",
    "    \n",
    "    counter = counter + 1\n",
    "    \n",
    "    response = requests.post(\n",
    "         r'https://api.nal.usda.gov/fdc/v1/search', # endpoint\n",
    "        params = params, #api key\n",
    "        json={'generalSearchInput': food} # each food in food_list\n",
    "    )\n",
    "    \n",
    "    item = response.json() # save response to json\n",
    "    \n",
    "    # get length of foods dictionary and i for each item\n",
    "    length = [i for i in range(len(item['foods']))]\n",
    "\n",
    "    # create a dataframe for all matches of a food word\n",
    "    for i in length:\n",
    "        if i == 0: \n",
    "            # initialize df with first food\n",
    "            rdf = pd.json_normalize(item['foods'][i]['foodNutrients']) # get foodNutrients of food at position i\n",
    "        else: \n",
    "            # create new df for subsequent foods and concatenate\n",
    "            df = pd.json_normalize(item['foods'][i]['foodNutrients'])\n",
    "            rdf = pd.concat([rdf, df])\n",
    "            \n",
    "    # recode column/variable values to simplify names\n",
    "    rdf['nutrientName'].replace('Energy','Energy',inplace=True)\n",
    "    rdf['nutrientName'].replace('Carbohydrate, by difference','Carbs',inplace=True)\n",
    "    rdf['nutrientName'].replace('Protein','Protein',inplace=True)\n",
    "    rdf['nutrientName'].replace('Fiber, total dietary','Fiber',inplace=True)\n",
    "    rdf['nutrientName'].replace('Total lipid (fat)','Fat',inplace=True)\n",
    "    rdf['nutrientName'].replace('Sodium, Na','Sodium',inplace=True)\n",
    "    rdf['nutrientName'].replace('Fatty acids, total saturated','Sat_Fatty_Acids',inplace=True)\n",
    "    rdf['nutrientName'].replace('Calcium, Ca','Calcium',inplace=True)\n",
    "    rdf['nutrientName'].replace('Iron, Fe','Iron',inplace=True)\n",
    "    rdf['nutrientName'].replace('Sugars, total including NLEA','Sugar',inplace=True)\n",
    "    rdf['nutrientName'].replace('Cholesterol','Chol',inplace=True)\n",
    "    rdf['nutrientName'].replace('Fatty acids, total trans','Trans_Fatty_Acids',inplace=True)\n",
    "    rdf['nutrientName'].replace('Vitamin C, total ascorbic acid','VitaminC',inplace=True)\n",
    "    rdf['nutrientName'].replace('Vitamin A, IU','VitaminA',inplace=True)\n",
    "    rdf['nutrientName'].replace('Potassium, K','Potassium',inplace=True)\n",
    "    rdf['nutrientName'].replace('Fatty acids, total polyunsaturated','Unsat_Fatty_Acids',inplace=True)   \n",
    "      \n",
    "    # aggregate to one row per nutrient/food match and find average\n",
    "    agg_food = rdf[['nutrientName', 'value']].groupby(['nutrientName']).agg('mean')\n",
    "\n",
    "    # reset index\n",
    "    agg_food = agg_food.reset_index()\n",
    "\n",
    "    # rename columns\n",
    "    agg_food.columns = ['Nutrient Name', 'Value']\n",
    "                                \n",
    "    # subset data to only include the needed nutrients\n",
    "    agg_food = agg_food[agg_food['Nutrient Name'].isin(['Energy','Carbs','Protein','Fiber','Fat'])]    \n",
    "\n",
    "    # set food name into a variable so we know what values each food is associated with\n",
    "    agg_food[\"Food\"] = food \n",
    "        \n",
    "    # transpose the data so the nutrient values are their own columns\n",
    "    new=agg_food.pivot_table(index = [\"Food\"], columns = ['Nutrient Name'], values = 'Value')\n",
    "\n",
    "    # reset the index\n",
    "    new.reset_index(inplace=True)\n",
    "    \n",
    "    print(new)\n",
    "    \n",
    "    # append food match to a dataframe with all foods\n",
    "    if counter == 1: # initialize the df if it's the first food in the list\n",
    "        all_foods = new\n",
    "    else: # combine records onto existing df for other foods\n",
    "        all_foods = pd.concat([all_foods,new]) \n",
    "           "
   ]
  },
  {
   "cell_type": "markdown",
   "id": "af2e3c46",
   "metadata": {},
   "source": [
    "## Protein and Energy Graph"
   ]
  },
  {
   "cell_type": "code",
   "execution_count": 107,
   "id": "276eb106",
   "metadata": {},
   "outputs": [
    {
     "data": {
      "text/plain": [
       "Text(0.5, 1.0, 'Is there an association between the amount of protein and energy in a food?')"
      ]
     },
     "execution_count": 107,
     "metadata": {},
     "output_type": "execute_result"
    },
    {
     "data": {
      "image/png": "[encoded data removed]",
      "text/plain": [
       "<Figure size 432x288 with 1 Axes>"
      ]
     },
     "metadata": {
      "needs_background": "light"
     },
     "output_type": "display_data"
    }
   ],
   "source": [
    "# Protein and Energy Graph\n",
    "\n",
    "all_foods.plot.scatter(x='Protein', y='Energy')\n",
    "\n",
    "plt.xlabel(\"Protein\")\n",
    "plt.ylabel(\"Energy\")\n",
    "plt.title(\"Is there an association between the amount of protein and energy in a food?\")"
   ]
  },
  {
   "cell_type": "markdown",
   "id": "860fd458",
   "metadata": {},
   "source": [
    "## Protein and Energy Interpretation\n",
    "The graph displays a general positive trend. As the amount of protein in a food increases, the amount of energy tends to increase as well. However, it does not seem to be a strong relationship. There are some outliers, so more data would be helpful in determining this association. "
   ]
  },
  {
   "cell_type": "markdown",
   "id": "e0df8d1e",
   "metadata": {},
   "source": [
    "## Carbs Graph"
   ]
  },
  {
   "cell_type": "code",
   "execution_count": 108,
   "id": "e997746e",
   "metadata": {},
   "outputs": [
    {
     "data": {
      "text/plain": [
       "Text(0.5, 1.0, 'Which food has the most carbs?')"
      ]
     },
     "execution_count": 108,
     "metadata": {},
     "output_type": "execute_result"
    },
    {
     "data": {
      "image/png": "[encoded data removed]",
      "text/plain": [
       "<Figure size 432x288 with 1 Axes>"
      ]
     },
     "metadata": {
      "needs_background": "light"
     },
     "output_type": "display_data"
    }
   ],
   "source": [
    "# Carbs concentration of each food item\n",
    "\n",
    "all_foods.plot.bar(x='Food',y='Carbs')\n",
    "\n",
    "# Add labels\n",
    "plt.xlabel(\"Food\")\n",
    "plt.ylabel(\"Carbs\")\n",
    "plt.title(\"Which food has the most carbs?\")"
   ]
  },
  {
   "cell_type": "markdown",
   "id": "2ef47f4d",
   "metadata": {},
   "source": [
    "## Carbs Interpretation\n",
    "\n",
    "Pecan pie has the highest amount of carbs, and turkey has the lowest amount of carbs. Bread stuffing, sweet potato souffle, and cranberry sauce all have comparable carb values between 20-30. A ranking of the three foods with the highest amounts of carbs would be (1) pecan pie, (2) mashed potatoes, and (3) apple pie. "
   ]
  },
  {
   "cell_type": "markdown",
   "id": "370424e9",
   "metadata": {},
   "source": [
    "## Energy Graph"
   ]
  },
  {
   "cell_type": "code",
   "execution_count": 109,
   "id": "4283b572",
   "metadata": {},
   "outputs": [
    {
     "data": {
      "text/plain": [
       "Text(0.5, 1.0, 'Which food has the most energy?')"
      ]
     },
     "execution_count": 109,
     "metadata": {},
     "output_type": "execute_result"
    },
    {
     "data": {
      "image/png": "[encoded data removed]",
      "text/plain": [
       "<Figure size 432x288 with 1 Axes>"
      ]
     },
     "metadata": {
      "needs_background": "light"
     },
     "output_type": "display_data"
    }
   ],
   "source": [
    "# Energy concentration of each food item\n",
    "\n",
    "all_foods.plot.bar(x='Food', y='Energy')\n",
    "\n",
    "# Add labels\n",
    "plt.xlabel('Food')\n",
    "plt.ylabel('Energy')\n",
    "plt.title('Which food has the most energy?')\n"
   ]
  },
  {
   "cell_type": "markdown",
   "id": "ede4c100",
   "metadata": {},
   "source": [
    "## Energy Interpretation\n",
    "\n",
    "Pecan pie has the highest amount of energy, which makes sense because it also contains the highest amount of fat and carbs. Mixed vegetables has the lowest amount of energy. Mashed potatoes, sweet potato souffle, and cranberry sauce contain very similar amounts of energy. A ranking of the three foods with the highest amounts of energy would be (1) pecan pie, (2) turkey, and (3) bread stuffing. "
   ]
  },
  {
   "cell_type": "markdown",
   "id": "501082d9",
   "metadata": {},
   "source": [
    "## Fat Graph"
   ]
  },
  {
   "cell_type": "code",
   "execution_count": 110,
   "id": "452dd8ab",
   "metadata": {},
   "outputs": [
    {
     "data": {
      "text/plain": [
       "Text(0.5, 1.0, 'Which food has the most fat?')"
      ]
     },
     "execution_count": 110,
     "metadata": {},
     "output_type": "execute_result"
    },
    {
     "data": {
      "image/png": "[encoded data removed]",
      "text/plain": [
       "<Figure size 432x288 with 1 Axes>"
      ]
     },
     "metadata": {
      "needs_background": "light"
     },
     "output_type": "display_data"
    }
   ],
   "source": [
    "# Fat concentration of each food item\n",
    "\n",
    "all_foods.plot.bar(x='Food', y=\"Fat\")\n",
    "\n",
    "# Add labels\n",
    "plt.xlabel(\"Food\")\n",
    "plt.ylabel(\"Fat\")\n",
    "plt.title(\"Which food has the most fat?\")"
   ]
  },
  {
   "cell_type": "markdown",
   "id": "f582fcbc",
   "metadata": {},
   "source": [
    "## Fat Interpretation\n",
    "\n",
    "Pecan pie contains the highest amount of fat, followed by apple pie and turkey, which have comparable amounts. The first and second rankings make sense because pecan pie and apple pie are both desserts. The food with the lowest amount of fat is mixed vegetables. Cranberry sauce also contains very little fat. All of the fat values are below 14 units except for pecan pie's, which is an outlier because it is significantly higher."
   ]
  },
  {
   "cell_type": "markdown",
   "id": "4c6f6229",
   "metadata": {},
   "source": [
    "## Fiber Graph"
   ]
  },
  {
   "cell_type": "code",
   "execution_count": 111,
   "id": "e4b95a75",
   "metadata": {},
   "outputs": [
    {
     "data": {
      "text/plain": [
       "Text(0.5, 1.0, 'Which food has the most fiber?')"
      ]
     },
     "execution_count": 111,
     "metadata": {},
     "output_type": "execute_result"
    },
    {
     "data": {
      "image/png": "[encoded data removed]",
      "text/plain": [
       "<Figure size 432x288 with 1 Axes>"
      ]
     },
     "metadata": {
      "needs_background": "light"
     },
     "output_type": "display_data"
    }
   ],
   "source": [
    "# Fiber concentration of each food item\n",
    "\n",
    "all_foods.plot.bar(x=\"Food\", y='Fiber')\n",
    "\n",
    "# Add labels\n",
    "plt.xlabel(\"Food\")\n",
    "plt.ylabel(\"Fiber\")\n",
    "plt.title(\"Which food has the most fiber?\")"
   ]
  },
  {
   "cell_type": "markdown",
   "id": "367bc504",
   "metadata": {},
   "source": [
    "## Fiber Interpretation\n",
    "\n",
    "Mashed potatoes has the highest amount of fiber, followed by sweet potato souffle and pecan pie. This makes sense because potatoes and nuts generally contain a lot of fiber. Ham and turkey have the lowest amounts of fiber. The amounts in bread stuffing, mixed vegetables, and apple pie are comparable. "
   ]
  },
  {
   "cell_type": "markdown",
   "id": "ec8a10b9",
   "metadata": {},
   "source": [
    "## Protein Graph"
   ]
  },
  {
   "cell_type": "code",
   "execution_count": 112,
   "id": "a1c9c4d4",
   "metadata": {},
   "outputs": [
    {
     "data": {
      "text/plain": [
       "Text(0.5, 1.0, 'Which food has the most protein?')"
      ]
     },
     "execution_count": 112,
     "metadata": {},
     "output_type": "execute_result"
    },
    {
     "data": {
      "image/png": "[encoded data removed]",
      "text/plain": [
       "<Figure size 432x288 with 1 Axes>"
      ]
     },
     "metadata": {
      "needs_background": "light"
     },
     "output_type": "display_data"
    }
   ],
   "source": [
    "# Protein concentration of each food item\n",
    "\n",
    "all_foods.plot.bar(x='Food', y='Protein')\n",
    "\n",
    "# Add labels\n",
    "plt.xlabel('Food')\n",
    "plt.ylabel('Protein')\n",
    "plt.title('Which food has the most protein?')"
   ]
  },
  {
   "cell_type": "markdown",
   "id": "37ec8e4b",
   "metadata": {},
   "source": [
    "## Protein Interpretation\n",
    "\n",
    "Turkey has the highest amount of protein, followed by ham, which also has a high value. Mixed vegetables has the lowest amount of protein, closely followed by cranberry sauce. These results make sense because meats are rich in protein, and fruits and vegetables are not. "
   ]
  },
  {
   "cell_type": "markdown",
   "id": "f351cd2b",
   "metadata": {},
   "source": [
    "## Analysis 1\n",
    "\n",
    "#### The healthiest/most nutritious Thanksgiving foods are...\n",
    "\n",
    "I think that mashed potatoes and bread stuffing are the most nutritious foods. They both contain high amounts of fiber and have moderate levels of energy. While mashed potatoes contains a lot of carbs, which may be interpreted as unhealthy, it also contains the third lowest amount of fat. Bread stuffing contains a moderate amount of fat but has the third highest amount of energy. Two other nutritious foods are turkey and ham. Their protein values are much higher than those of the other foods, and turkey contains the second highest amount of energy (ham is fifth highest). "
   ]
  },
  {
   "cell_type": "markdown",
   "id": "36a473ea",
   "metadata": {},
   "source": [
    "## Analysis 2\n",
    "\n",
    "#### The least healthy/least nutritious Thanksgiving foods are...\n",
    "\n",
    "I think that pecan pie is the least healthy food because it is very high in fat. It has the highest amount of energy, but this is likely because it has the highest fat concentration. Based on the available data, mixed vegetables do not seem to be very nutritious either. While they contain a good amount of fiber, they have very little protein or energy. A third Thanksgiving food that seems less healthy than the others is apple pie. Apple pie has among the highest fat concentrations, and pie crust (used for both pecan pie and apple pie) contains a lot of fat from butter."
   ]
  }
 ],
 "metadata": {
  "kernelspec": {
   "display_name": "Python 3",
   "language": "python",
   "name": "python3"
  },
  "language_info": {
   "codemirror_mode": {
    "name": "ipython",
    "version": 3
   },
   "file_extension": ".py",
   "mimetype": "text/x-python",
   "name": "python",
   "nbconvert_exporter": "python",
   "pygments_lexer": "ipython3",
   "version": "3.8.5"
  }
 },
 "nbformat": 4,
 "nbformat_minor": 5
}
